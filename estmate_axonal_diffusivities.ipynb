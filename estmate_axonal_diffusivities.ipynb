{
 "cells": [
  {
   "cell_type": "code",
   "execution_count": 1,
   "metadata": {},
   "outputs": [],
   "source": [
    "import os\n",
    "import numpy as np\n",
    "import nibabel as nib\n",
    "import pandas as pd\n",
    "import mkl\n",
    "from time import time"
   ]
  },
  {
   "cell_type": "code",
   "execution_count": 5,
   "metadata": {},
   "outputs": [],
   "source": [
    "n_workers = 1"
   ]
  },
  {
   "cell_type": "code",
   "execution_count": 6,
   "metadata": {},
   "outputs": [
    {
     "data": {
      "text/plain": [
       "1"
      ]
     },
     "execution_count": 6,
     "metadata": {},
     "output_type": "execute_result"
    }
   ],
   "source": [
    "# Make sure only maximum n_workers number of cores are used\n",
    "os.environ[\"MKL_THREADING_LAYER\"] = \"sequential\"\n",
    "mkl.set_num_threads(n_workers)\n",
    "mkl.set_num_threads(n_workers)"
   ]
  },
  {
   "attachments": {},
   "cell_type": "markdown",
   "metadata": {},
   "source": [
    "# Load data"
   ]
  },
  {
   "cell_type": "code",
   "execution_count": 7,
   "metadata": {},
   "outputs": [],
   "source": [
    "dir_data = './data'"
   ]
  },
  {
   "cell_type": "code",
   "execution_count": 8,
   "metadata": {},
   "outputs": [],
   "source": [
    "# Load scheme file\n",
    "scheme_df = pd.read_pickle(os.path.join(dir_data,'scheme.pkl'))\n",
    "\n",
    "# Load mask\n",
    "img = nib.load(os.path.join(dir_data,'mask_slice_55.nii.gz'))\n",
    "mask = img.get_fdata()\n",
    "\n",
    "data_fname = 'dwi_DGE_slice_55.nii.gz'\n",
    "# data_fname = 'dwi_DGEp2s_slice_55.nii.gz'\n",
    "\n",
    "img = nib.load(os.path.join(dir_data,data_fname))\n",
    "data = img.get_fdata()"
   ]
  },
  {
   "attachments": {},
   "cell_type": "markdown",
   "metadata": {},
   "source": [
    "# Bound optimization intervals"
   ]
  },
  {
   "cell_type": "code",
   "execution_count": 9,
   "metadata": {},
   "outputs": [],
   "source": [
    "nR,nC,nS = mask.shape\n",
    "one = np.ones((nR,nC,nS))\n",
    "D_par_low = 1.2e-9*one\n",
    "D_par_high = 3.4e-9*one\n",
    "D_perp_low = 0.001e-9*one\n",
    "D_perp_high = 0.2e-9*one"
   ]
  },
  {
   "cell_type": "code",
   "execution_count": 10,
   "metadata": {},
   "outputs": [
    {
     "data": {
      "text/plain": [
       "(140, 140, 1)"
      ]
     },
     "execution_count": 10,
     "metadata": {},
     "output_type": "execute_result"
    }
   ],
   "source": [
    "nR,nC,nS"
   ]
  },
  {
   "attachments": {},
   "cell_type": "markdown",
   "metadata": {},
   "source": [
    "# Import methods"
   ]
  },
  {
   "cell_type": "code",
   "execution_count": 11,
   "metadata": {},
   "outputs": [],
   "source": [
    "import shmodel_varpro as varpro"
   ]
  },
  {
   "attachments": {},
   "cell_type": "markdown",
   "metadata": {},
   "source": [
    "# With spherical mean"
   ]
  },
  {
   "cell_type": "code",
   "execution_count": 12,
   "metadata": {},
   "outputs": [
    {
     "name": "stdout",
     "output_type": "stream",
     "text": [
      "base name is\n",
      "dwi_DGE_slice_55_sh_12_LB_gamma_0.00208_biased\n"
     ]
    }
   ],
   "source": [
    "# Spherical Harmonics order to use (max is 12) for each shell (at the moment only the same order for each shell is implemented)\n",
    "sh_order_list = [12,12]\n",
    "\n",
    "# Regularization type\n",
    "use_sph_mean = True\n",
    "gamma = 25 / 12000\n",
    "reg_type = 'LB'\n",
    "\n",
    "\n",
    "# Base name for results\n",
    "output_name = data_fname[:-7]+'_sh_'+str(sh_order_list[0])+ '_' + reg_type +'_gamma_'+   \"{:.{}f}\".format( gamma, 5 )\n",
    "\n",
    "if use_sph_mean:\n",
    "    output_name = output_name + '_biased'\n",
    "else:\n",
    "    output_name = output_name + '_unbiased'\n",
    "\n",
    "print('base name is')\n",
    "print(output_name)"
   ]
  },
  {
   "cell_type": "code",
   "execution_count": 11,
   "metadata": {},
   "outputs": [],
   "source": [
    "b10_idxs = scheme_df[scheme_df.b == scheme_df.b.unique()[-1]].index\n",
    "b05_idxs = scheme_df[scheme_df.b == scheme_df.b.unique()[-2]].index"
   ]
  },
  {
   "cell_type": "code",
   "execution_count": 12,
   "metadata": {},
   "outputs": [],
   "source": [
    "if not use_sph_mean:\n",
    "    data[...,b10_idxs] = data[...,b10_idxs] - np.mean(data[...,b10_idxs],axis=-1)[...,np.newaxis]\n",
    "    data[...,b05_idxs] = data[...,b05_idxs] - np.mean(data[...,b05_idxs],axis=-1)[...,np.newaxis]\n",
    "    \n",
    "# selecting only the high b-balue shells\n",
    "\n",
    "b10 = scheme_df.b.unique()[-1]\n",
    "b5 = scheme_df.b.unique()[-2]\n",
    "bvals_unique = scheme_df.b.unique()[-2:]\n",
    "idxs = scheme_df[(scheme_df.b==b5) | (scheme_df.b==b10)].index\n",
    "bvals = scheme_df.b.values[idxs]\n",
    "vecs = np.c_[scheme_df.x.values[idxs],scheme_df.y.values[idxs],scheme_df.z.values[idxs]]\n",
    "\n",
    "data_rcs= data[:,:,:,idxs]"
   ]
  },
  {
   "cell_type": "code",
   "execution_count": 14,
   "metadata": {},
   "outputs": [
    {
     "name": "stdout",
     "output_type": "stream",
     "text": [
      "SH ORDER LIST only works with equal SH order per shell so far e.g [12,12]\n",
      "Fit...\n",
      "It took  8 minutesomplete expected time 1 secondss4281 out of 8157 complete expected time 9 minutes4321 out of 8157 complete expected time 7 minutes\n"
     ]
    }
   ],
   "source": [
    "\n",
    "\n",
    "start=time()\n",
    "dpar,dperp = varpro.fit_tensor_sh_all_data_varpro(data_rcs,\n",
    "                                        vecs,\n",
    "                                        bvals,\n",
    "                                        bvals_unique,\n",
    "                                        sh_order_list,\n",
    "                                        n_workers,\n",
    "                                        mask,\n",
    "                                        D_par_low = D_par_low,\n",
    "                                        D_par_high = D_par_high,\n",
    "                                        D_perp_low = D_perp_low,\n",
    "                                        D_perp_high = D_perp_high,\n",
    "                                        constrain_sph_mean=False,\n",
    "                                        lambda_tik=gamma,\n",
    "                                        positivity=False,\n",
    "                                        use_sph_mean=use_sph_mean,\n",
    "                                        neighboorhood_fit=False,\n",
    "                                        neighboorhood_radius=1,\n",
    "                                        neighboorhood_size=1,\n",
    "                                        reg=reg_type)\n",
    "\n",
    "elapsed_time = time()-start\n",
    "print('It took ',str(int(elapsed_time /60. )) + ' minutes')"
   ]
  },
  {
   "cell_type": "code",
   "execution_count": 15,
   "metadata": {},
   "outputs": [],
   "source": [
    "tmp = dperp*1e9\n",
    "outImg=nib.Nifti1Image(tmp,img.affine)\n",
    "out_name = os.path.join(os.path.join('./',output_name+ '_dperp_L-BFGS-B.nii.gz'))\n",
    "nib.save(outImg, out_name)\n",
    "\n",
    "tmp = dpar*1e9\n",
    "outImg=nib.Nifti1Image(tmp,img.affine)\n",
    "out_name = os.path.join(os.path.join('./',output_name+ '_dpar_L-BFGS-B.nii.gz'))\n",
    "nib.save(outImg, out_name)"
   ]
  },
  {
   "attachments": {},
   "cell_type": "markdown",
   "metadata": {},
   "source": [
    "# Without spherical mean"
   ]
  },
  {
   "cell_type": "code",
   "execution_count": 16,
   "metadata": {},
   "outputs": [
    {
     "name": "stdout",
     "output_type": "stream",
     "text": [
      "base name is\n",
      "dwi_DGE_slice_55_sh_12_eye_gamma_2.00000_unbiased\n"
     ]
    }
   ],
   "source": [
    "# Spherical Harmonics order to use (max is 12) for each shell (at the moment only the same order for each shell is implemented)\n",
    "sh_order_list = [12,12]\n",
    "\n",
    "# Regularization type\n",
    "use_sph_mean = False\n",
    "gamma = 2\n",
    "reg_type = 'eye' #Tikhonov\n",
    "\n",
    "\n",
    "# Base name for results\n",
    "output_name = data_fname[:-7]+'_sh_'+str(sh_order_list[0])+ '_' + reg_type +'_gamma_'+   \"{:.{}f}\".format( gamma, 5 )\n",
    "\n",
    "if use_sph_mean:\n",
    "    output_name = output_name + '_biased'\n",
    "else:\n",
    "    output_name = output_name + '_unbiased'\n",
    "\n",
    "print('base name is')\n",
    "print(output_name)"
   ]
  },
  {
   "cell_type": "code",
   "execution_count": 17,
   "metadata": {},
   "outputs": [],
   "source": [
    "b10_idxs = scheme_df[scheme_df.b == scheme_df.b.unique()[-1]].index\n",
    "b05_idxs = scheme_df[scheme_df.b == scheme_df.b.unique()[-2]].index"
   ]
  },
  {
   "cell_type": "code",
   "execution_count": 18,
   "metadata": {},
   "outputs": [],
   "source": [
    "if not use_sph_mean:\n",
    "    # subtract the mean from the data\n",
    "    data[...,b10_idxs] = data[...,b10_idxs] - np.mean(data[...,b10_idxs],axis=-1)[...,np.newaxis]\n",
    "    data[...,b05_idxs] = data[...,b05_idxs] - np.mean(data[...,b05_idxs],axis=-1)[...,np.newaxis]\n",
    "    \n",
    "# selecting only the high b-balue shells\n",
    "\n",
    "b10 = scheme_df.b.unique()[-1]\n",
    "b5 = scheme_df.b.unique()[-2]\n",
    "bvals_unique = scheme_df.b.unique()[-2:]\n",
    "idxs = scheme_df[(scheme_df.b==b5) | (scheme_df.b==b10)].index\n",
    "bvals = scheme_df.b.values[idxs]\n",
    "vecs = np.c_[scheme_df.x.values[idxs],scheme_df.y.values[idxs],scheme_df.z.values[idxs]]\n",
    "\n",
    "data_rcs= data[:,:,:,idxs]"
   ]
  },
  {
   "cell_type": "code",
   "execution_count": 19,
   "metadata": {},
   "outputs": [
    {
     "name": "stdout",
     "output_type": "stream",
     "text": [
      "ATTENTION: you should have subtracted the spherical mean from the data before passing it as input\n",
      "SH ORDER LIST only works with equal SH order per shell so far e.g [12,12]\n",
      "Fit...\n",
      "It took  7 minutesomplete expected time 1 secondss\n"
     ]
    }
   ],
   "source": [
    "\n",
    "\n",
    "start=time()\n",
    "dpar,dperp = varpro.fit_tensor_sh_all_data_varpro(data_rcs,\n",
    "                                        vecs,\n",
    "                                        bvals,\n",
    "                                        bvals_unique,\n",
    "                                        sh_order_list,\n",
    "                                        n_workers,\n",
    "                                        mask,\n",
    "                                        D_par_low = D_par_low,\n",
    "                                        D_par_high = D_par_high,\n",
    "                                        D_perp_low = D_perp_low,\n",
    "                                        D_perp_high = D_perp_high,\n",
    "                                        constrain_sph_mean=False,\n",
    "                                        lambda_tik=gamma,\n",
    "                                        positivity=False,\n",
    "                                        use_sph_mean=use_sph_mean,\n",
    "                                        neighboorhood_fit=False,\n",
    "                                        neighboorhood_radius=1,\n",
    "                                        neighboorhood_size=1,\n",
    "                                        reg=reg_type)\n",
    "\n",
    "elapsed_time = time()-start\n",
    "print('It took ',str(int(elapsed_time /60. )) + ' minutes')"
   ]
  },
  {
   "cell_type": "code",
   "execution_count": 20,
   "metadata": {},
   "outputs": [],
   "source": [
    "tmp = dperp*1e9\n",
    "outImg=nib.Nifti1Image(tmp,img.affine)\n",
    "out_name = os.path.join(os.path.join('./',output_name+ '_dperp_L-BFGS-B.nii.gz'))\n",
    "nib.save(outImg, out_name)\n",
    "\n",
    "tmp = dpar*1e9\n",
    "outImg=nib.Nifti1Image(tmp,img.affine)\n",
    "out_name = os.path.join(os.path.join('./',output_name+ '_dpar_L-BFGS-B.nii.gz'))\n",
    "nib.save(outImg, out_name)"
   ]
  },
  {
   "cell_type": "code",
   "execution_count": null,
   "metadata": {},
   "outputs": [],
   "source": []
  }
 ],
 "metadata": {
  "kernelspec": {
   "display_name": "base",
   "language": "python",
   "name": "python3"
  },
  "language_info": {
   "codemirror_mode": {
    "name": "ipython",
    "version": 3
   },
   "file_extension": ".py",
   "mimetype": "text/x-python",
   "name": "python",
   "nbconvert_exporter": "python",
   "pygments_lexer": "ipython3",
   "version": "3.9.7"
  },
  "orig_nbformat": 4,
  "vscode": {
   "interpreter": {
    "hash": "7f7c8b01cee31add7871201a2ddeb2bc4a128dc8179b617cafbbfe21924e4588"
   }
  }
 },
 "nbformat": 4,
 "nbformat_minor": 2
}
